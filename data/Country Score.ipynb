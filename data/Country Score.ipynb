{
 "cells": [
  {
   "cell_type": "code",
   "execution_count": 2,
   "id": "e703e6dc-3d75-4c25-a0eb-640355c82b3d",
   "metadata": {},
   "outputs": [
    {
     "name": "stderr",
     "output_type": "stream",
     "text": [
      "/usr/local/lib/python3.10/dist-packages/matplotlib/projections/__init__.py:63: UserWarning: Unable to import Axes3D. This may be due to multiple versions of Matplotlib being installed (e.g. as a system package and as a pip package). As a result, the 3D projection is not available.\n",
      "  warnings.warn(\"Unable to import Axes3D. This may be due to multiple versions of \"\n"
     ]
    },
    {
     "data": {
      "text/html": [
       "        <script type=\"text/javascript\">\n",
       "        window.PlotlyConfig = {MathJaxConfig: 'local'};\n",
       "        if (window.MathJax && window.MathJax.Hub && window.MathJax.Hub.Config) {window.MathJax.Hub.Config({SVG: {font: \"STIX-Web\"}});}\n",
       "        if (typeof require !== 'undefined') {\n",
       "        require.undef(\"plotly\");\n",
       "        requirejs.config({\n",
       "            paths: {\n",
       "                'plotly': ['https://cdn.plot.ly/plotly-2.35.2.min']\n",
       "            }\n",
       "        });\n",
       "        require(['plotly'], function(Plotly) {\n",
       "            window._Plotly = Plotly;\n",
       "        });\n",
       "        }\n",
       "        </script>\n",
       "        "
      ]
     },
     "metadata": {},
     "output_type": "display_data"
    }
   ],
   "source": [
    "import numpy as np\n",
    "import pandas as pd\n",
    "import matplotlib.pyplot as plt\n",
    "%matplotlib inline\n",
    "import plotly.offline as py\n",
    "import plotly.express as px\n",
    "py.init_notebook_mode(connected=True)\n",
    "import plotly.graph_objs as go\n",
    "import plotly.tools as tls\n",
    "import seaborn as sns\n",
    "import time\n",
    "import re\n",
    "import warnings\n",
    "warnings.filterwarnings('ignore')"
   ]
  },
  {
   "cell_type": "code",
   "execution_count": 3,
   "id": "571032dd-16f0-44d3-917b-ab21c0fdab84",
   "metadata": {},
   "outputs": [],
   "source": [
    "df = pd.read_csv(\"/home/yutai/Downloads/taxscore.csv\")"
   ]
  },
  {
   "cell_type": "code",
   "execution_count": 4,
   "id": "1b8727ab-b79f-4742-bc49-4a89df819935",
   "metadata": {},
   "outputs": [
    {
     "data": {
      "text/html": [
       "<div>\n",
       "<style scoped>\n",
       "    .dataframe tbody tr th:only-of-type {\n",
       "        vertical-align: middle;\n",
       "    }\n",
       "\n",
       "    .dataframe tbody tr th {\n",
       "        vertical-align: top;\n",
       "    }\n",
       "\n",
       "    .dataframe thead th {\n",
       "        text-align: right;\n",
       "    }\n",
       "</style>\n",
       "<table border=\"1\" class=\"dataframe\">\n",
       "  <thead>\n",
       "    <tr style=\"text-align: right;\">\n",
       "      <th></th>\n",
       "      <th>Country</th>\n",
       "      <th>Price</th>\n",
       "      <th>Cov</th>\n",
       "      <th>Score</th>\n",
       "    </tr>\n",
       "  </thead>\n",
       "  <tbody>\n",
       "    <tr>\n",
       "      <th>0</th>\n",
       "      <td>Canada</td>\n",
       "      <td>58.94</td>\n",
       "      <td>40%</td>\n",
       "      <td>54.3138</td>\n",
       "    </tr>\n",
       "    <tr>\n",
       "      <th>1</th>\n",
       "      <td>USA</td>\n",
       "      <td>0.00</td>\n",
       "      <td>2%</td>\n",
       "      <td>1.9200</td>\n",
       "    </tr>\n",
       "    <tr>\n",
       "      <th>2</th>\n",
       "      <td>Argentina</td>\n",
       "      <td>0.81</td>\n",
       "      <td>38%</td>\n",
       "      <td>36.6987</td>\n",
       "    </tr>\n",
       "    <tr>\n",
       "      <th>3</th>\n",
       "      <td>Chile</td>\n",
       "      <td>5.00</td>\n",
       "      <td>55%</td>\n",
       "      <td>54.1500</td>\n",
       "    </tr>\n",
       "    <tr>\n",
       "      <th>4</th>\n",
       "      <td>Mexico</td>\n",
       "      <td>4.30</td>\n",
       "      <td>30%</td>\n",
       "      <td>29.9610</td>\n",
       "    </tr>\n",
       "  </tbody>\n",
       "</table>\n",
       "</div>"
      ],
      "text/plain": [
       "     Country  Price  Cov    Score\n",
       "0     Canada  58.94  40%  54.3138\n",
       "1        USA   0.00   2%   1.9200\n",
       "2  Argentina   0.81  38%  36.6987\n",
       "3      Chile   5.00  55%  54.1500\n",
       "4     Mexico   4.30  30%  29.9610"
      ]
     },
     "execution_count": 4,
     "metadata": {},
     "output_type": "execute_result"
    }
   ],
   "source": [
    "df.head()"
   ]
  },
  {
   "cell_type": "code",
   "execution_count": 5,
   "id": "ffd9636a-2fb3-4eff-b1a6-a93d2dbd37b7",
   "metadata": {},
   "outputs": [],
   "source": [
    "countries = np.unique(df['Country'])"
   ]
  },
  {
   "cell_type": "code",
   "execution_count": 11,
   "id": "91627eb3-c7b2-400a-924e-bfbe319ccbcf",
   "metadata": {},
   "outputs": [
    {
     "data": {
      "application/vnd.plotly.v1+json": {
       "config": {
        "linkText": "Export to plot.ly",
        "plotlyServerURL": "https://plot.ly",
        "showLink": false
       },
       "data": [
        {
         "colorbar": {
          "autotick": false,
          "tickprefix": "",
          "title": {
           "text": "Carbon Score"
          }
         },
         "colorscale": "Jet",
         "locationmode": "country names",
         "locations": [
          "Canada",
          "USA",
          "Argentina",
          "Chile",
          "Mexico",
          "Colombia",
          "Australia",
          "Khazakstan",
          "China",
          "Indonesia",
          "Finland",
          "Sweden",
          "Norway",
          "Spain",
          "Portugal",
          "Ireland",
          "France",
          "Italy",
          "Poland",
          "Germany",
          "Austria",
          "Slovenia",
          "Hungary",
          "Netherlands",
          "New Zealand",
          "South Korea",
          "South Africa",
          "Israel",
          "Japan"
         ],
         "marker": {
          "line": {
           "color": "rgb(180,180,180)",
           "width": 1
          }
         },
         "reversescale": false,
         "text": [
          "Argentina",
          "Australia",
          "Austria",
          "Canada",
          "Chile",
          "China",
          "Colombia",
          "Finland",
          "France",
          "Germany",
          "Hungary",
          "Indonesia",
          "Ireland",
          "Israel",
          "Italy",
          "Japan",
          "Khazakstan",
          "Mexico",
          "Netherlands",
          "New Zealand",
          "Norway",
          "Poland",
          "Portugal",
          "Slovenia",
          "South Africa",
          "South Korea",
          "Spain",
          "Sweden",
          "USA"
         ],
         "type": "choropleth",
         "z": [
          54.3138,
          1.92,
          36.6987,
          54.15,
          29.961,
          21.0009,
          30.873,
          45.12,
          41.7939,
          25.1247,
          65.3946,
          72.7575,
          91.5006,
          33.1524,
          38.4,
          48.8913,
          51.3438,
          36.48,
          23.04,
          50.4999,
          51.4599,
          48.2193,
          41.1663,
          62.4996,
          55.557,
          99.021,
          81.4416,
          73.2,
          11.073
         ]
        }
       ],
       "layout": {
        "autosize": true,
        "geo": {
         "lataxis": {
          "gridcolor": "rgb(211,211,211)",
          "showgrid": true
         },
         "lonaxis": {
          "gridcolor": "rgb(211,211,211)",
          "showgrid": true
         },
         "projection": {
          "rotation": {
           "lat": 18.240972656510994,
           "lon": -89.80002175506574
          },
          "scale": 1.1157393223249656,
          "type": "orthographic"
         },
         "showframe": true
        },
        "title": {
         "text": "Carbon Score by Country"
        }
       }
      },
      "image/png": "[encoded data removed]",
      "text/html": [
       "<div>                            <div id=\"07f818ba-38eb-4b7a-8e31-3a6bd592ec95\" class=\"plotly-graph-div\" style=\"height:525px; width:100%;\"></div>            <script type=\"text/javascript\">                require([\"plotly\"], function(Plotly) {                    window.PLOTLYENV=window.PLOTLYENV || {};                                    if (document.getElementById(\"07f818ba-38eb-4b7a-8e31-3a6bd592ec95\")) {                    Plotly.newPlot(                        \"07f818ba-38eb-4b7a-8e31-3a6bd592ec95\",                        [{\"type\":\"choropleth\",\"locations\":[\"Canada\",\"USA\",\"Argentina\",\"Chile\",\"Mexico\",\"Colombia\",\"Australia\",\"Khazakstan\",\"China\",\"Indonesia\",\"Finland\",\"Sweden\",\"Norway\",\"Spain\",\"Portugal\",\"Ireland\",\"France\",\"Italy\",\"Poland\",\"Germany\",\"Austria\",\"Slovenia\",\"Hungary\",\"Netherlands\",\"New Zealand\",\"South Korea\",\"South Africa\",\"Israel\",\"Japan\"],\"z\":[54.3138,1.92,36.6987,54.15,29.961,21.0009,30.873,45.12,41.7939,25.1247,65.3946,72.7575,91.5006,33.1524,38.4,48.8913,51.3438,36.48,23.04,50.4999,51.4599,48.2193,41.1663,62.4996,55.557,99.021,81.4416,73.2,11.073],\"locationmode\":\"country names\",\"text\":[\"Argentina\",\"Australia\",\"Austria\",\"Canada\",\"Chile\",\"China\",\"Colombia\",\"Finland\",\"France\",\"Germany\",\"Hungary\",\"Indonesia\",\"Ireland\",\"Israel\",\"Italy\",\"Japan\",\"Khazakstan\",\"Mexico\",\"Netherlands\",\"New Zealand\",\"Norway\",\"Poland\",\"Portugal\",\"Slovenia\",\"South Africa\",\"South Korea\",\"Spain\",\"Sweden\",\"USA\"],\"colorscale\":\"Jet\",\"reversescale\":false,\"marker\":{\"line\":{\"color\":\"rgb(180,180,180)\",\"width\":1}},\"colorbar\":{\"autotick\":false,\"tickprefix\":\"\",\"title\":\"Carbon Score\"}}],                        {\"title\":\"Carbon Score by Country\",\"geo\":{\"showframe\":true,\"projection\":{\"type\":\"orthographic\",\"rotation\":{\"lon\":30,\"lat\":15}},\"lonaxis\":{\"showgrid\":true,\"gridcolor\":\"rgb(211,211,211)\"},\"lataxis\":{\"showgrid\":true,\"gridcolor\":\"rgb(211,211,211)\"}}},                        {\"responsive\": true}                    ).then(function(){\n",
       "                            \n",
       "var gd = document.getElementById('07f818ba-38eb-4b7a-8e31-3a6bd592ec95');\n",
       "var x = new MutationObserver(function (mutations, observer) {{\n",
       "        var display = window.getComputedStyle(gd).display;\n",
       "        if (!display || display === 'none') {{\n",
       "            console.log([gd, 'removed!']);\n",
       "            Plotly.purge(gd);\n",
       "            observer.disconnect();\n",
       "        }}\n",
       "}});\n",
       "\n",
       "// Listen for the removal of the full notebook cells\n",
       "var notebookContainer = gd.closest('#notebook-container');\n",
       "if (notebookContainer) {{\n",
       "    x.observe(notebookContainer, {childList: true});\n",
       "}}\n",
       "\n",
       "// Listen for the clearing of the current output cell\n",
       "var outputEl = gd.closest('.output');\n",
       "if (outputEl) {{\n",
       "    x.observe(outputEl, {childList: true});\n",
       "}}\n",
       "\n",
       "                        })                };                });            </script>        </div>"
      ]
     },
     "metadata": {},
     "output_type": "display_data"
    }
   ],
   "source": [
    "data = [ dict(\n",
    "        type = 'choropleth',\n",
    "        locations = df['Country'],\n",
    "        z = df['Score'],\n",
    "        locationmode = 'country names',\n",
    "        text = countries,\n",
    "        colorscale = 'Jet',\n",
    "        reversescale = False,\n",
    "        marker = dict(\n",
    "            line = dict(color = 'rgb(180,180,180)', width = 1)),\n",
    "            colorbar = dict(\n",
    "                autotick = False, \n",
    "                tickprefix = '',\n",
    "                title = 'Carbon Score')\n",
    "            )\n",
    "       ]\n",
    "\n",
    "layout = dict(\n",
    "    title = 'Carbon Score by Country',\n",
    "    geo = dict(\n",
    "        showframe = True,\n",
    "        projection = dict(\n",
    "        type = 'orthographic',\n",
    "            rotation = dict(\n",
    "                    lon = 30,\n",
    "                    lat = 15),\n",
    "        ),\n",
    "        lonaxis =  dict(\n",
    "                showgrid = True,\n",
    "                gridcolor = 'rgb(211,211,211)'\n",
    "            ),\n",
    "        lataxis = dict(\n",
    "                showgrid = True,\n",
    "                gridcolor = 'rgb(211,211,211)'\n",
    "                )\n",
    "            ),\n",
    "        )\n",
    "\n",
    "fig = dict(data=data, layout=layout)\n",
    "py.iplot(fig, validate=False, filename='worldmap')"
   ]
  },
  {
   "cell_type": "code",
   "execution_count": 13,
   "id": "aacc1773-dfa4-4b89-b95a-8aa38ef68de5",
   "metadata": {},
   "outputs": [],
   "source": [
    "df = df.sort_values(by=['Score'], ascending=False)"
   ]
  },
  {
   "cell_type": "code",
   "execution_count": 14,
   "id": "819073f3-df5a-48c3-8ee0-41658baa33b1",
   "metadata": {},
   "outputs": [
    {
     "data": {
      "text/html": [
       "<div>\n",
       "<style scoped>\n",
       "    .dataframe tbody tr th:only-of-type {\n",
       "        vertical-align: middle;\n",
       "    }\n",
       "\n",
       "    .dataframe tbody tr th {\n",
       "        vertical-align: top;\n",
       "    }\n",
       "\n",
       "    .dataframe thead th {\n",
       "        text-align: right;\n",
       "    }\n",
       "</style>\n",
       "<table border=\"1\" class=\"dataframe\">\n",
       "  <thead>\n",
       "    <tr style=\"text-align: right;\">\n",
       "      <th></th>\n",
       "      <th>Country</th>\n",
       "      <th>Price</th>\n",
       "      <th>Cov</th>\n",
       "      <th>Score</th>\n",
       "    </tr>\n",
       "  </thead>\n",
       "  <tbody>\n",
       "    <tr>\n",
       "      <th>25</th>\n",
       "      <td>South Korea</td>\n",
       "      <td>50.30</td>\n",
       "      <td>89%</td>\n",
       "      <td>99.0210</td>\n",
       "    </tr>\n",
       "    <tr>\n",
       "      <th>12</th>\n",
       "      <td>Norway</td>\n",
       "      <td>107.78</td>\n",
       "      <td>65%</td>\n",
       "      <td>91.5006</td>\n",
       "    </tr>\n",
       "    <tr>\n",
       "      <th>26</th>\n",
       "      <td>South Africa</td>\n",
       "      <td>10.08</td>\n",
       "      <td>82%</td>\n",
       "      <td>81.4416</td>\n",
       "    </tr>\n",
       "    <tr>\n",
       "      <th>27</th>\n",
       "      <td>Israel</td>\n",
       "      <td>40.00</td>\n",
       "      <td>65%</td>\n",
       "      <td>73.2000</td>\n",
       "    </tr>\n",
       "    <tr>\n",
       "      <th>11</th>\n",
       "      <td>Sweden</td>\n",
       "      <td>127.25</td>\n",
       "      <td>40%</td>\n",
       "      <td>72.7575</td>\n",
       "    </tr>\n",
       "  </tbody>\n",
       "</table>\n",
       "</div>"
      ],
      "text/plain": [
       "         Country   Price  Cov    Score\n",
       "25   South Korea   50.30  89%  99.0210\n",
       "12        Norway  107.78  65%  91.5006\n",
       "26  South Africa   10.08  82%  81.4416\n",
       "27        Israel   40.00  65%  73.2000\n",
       "11        Sweden  127.25  40%  72.7575"
      ]
     },
     "execution_count": 14,
     "metadata": {},
     "output_type": "execute_result"
    }
   ],
   "source": [
    "df.head()"
   ]
  },
  {
   "cell_type": "code",
   "execution_count": null,
   "id": "26a840cc-0e1f-4c21-831b-050e42fd3167",
   "metadata": {},
   "outputs": [],
   "source": []
  }
 ],
 "metadata": {
  "kernelspec": {
   "display_name": "Python 3 (ipykernel)",
   "language": "python",
   "name": "python3"
  },
  "language_info": {
   "codemirror_mode": {
    "name": "ipython",
    "version": 3
   },
   "file_extension": ".py",
   "mimetype": "text/x-python",
   "name": "python",
   "nbconvert_exporter": "python",
   "pygments_lexer": "ipython3",
   "version": "3.10.12"
  }
 },
 "nbformat": 4,
 "nbformat_minor": 5
}
